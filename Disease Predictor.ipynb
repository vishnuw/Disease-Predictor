{
  "nbformat": 4,
  "nbformat_minor": 0,
  "metadata": {
    "colab": {
      "provenance": [],
      "collapsed_sections": [
        "5kdaw3jLKd7h",
        "00b9qROmV62Q"
      ]
    },
    "kernelspec": {
      "name": "python3",
      "display_name": "Python 3"
    },
    "language_info": {
      "name": "python"
    }
  },
  "cells": [
    {
      "cell_type": "markdown",
      "source": [
        "#**Data Preprocessing**"
      ],
      "metadata": {
        "id": "5kdaw3jLKd7h"
      }
    },
    {
      "cell_type": "code",
      "execution_count": 20,
      "metadata": {
        "id": "CRDjh3sPyN8K"
      },
      "outputs": [],
      "source": [
        "#importing libraries\n",
        "import pandas as p\n",
        "import matplotlib.pyplot as plt"
      ]
    },
    {
      "cell_type": "code",
      "source": [
        "#reading the dataset\n",
        "df=p.read_csv(\"Dataset.csv\")\n",
        "df.head()"
      ],
      "metadata": {
        "colab": {
          "base_uri": "https://localhost:8080/",
          "height": 357
        },
        "id": "hXHveGX4HxCE",
        "outputId": "9c110845-ae7d-4664-d042-fc8005dcac54"
      },
      "execution_count": 21,
      "outputs": [
        {
          "output_type": "execute_result",
          "data": {
            "text/plain": [
              "            Disease   Symptom_1              Symptom_2              Symptom_3  \\\n",
              "0  Fungal infection     itching              skin_rash   nodal_skin_eruptions   \n",
              "1  Fungal infection   skin_rash   nodal_skin_eruptions    dischromic _patches   \n",
              "2  Fungal infection     itching   nodal_skin_eruptions    dischromic _patches   \n",
              "3  Fungal infection     itching              skin_rash    dischromic _patches   \n",
              "4  Fungal infection     itching              skin_rash   nodal_skin_eruptions   \n",
              "\n",
              "              Symptom_4 Symptom_5 Symptom_6 Symptom_7 Symptom_8 Symptom_9  \\\n",
              "0   dischromic _patches       NaN       NaN       NaN       NaN       NaN   \n",
              "1                   NaN       NaN       NaN       NaN       NaN       NaN   \n",
              "2                   NaN       NaN       NaN       NaN       NaN       NaN   \n",
              "3                   NaN       NaN       NaN       NaN       NaN       NaN   \n",
              "4                   NaN       NaN       NaN       NaN       NaN       NaN   \n",
              "\n",
              "  Symptom_10 Symptom_11 Symptom_12 Symptom_13 Symptom_14 Symptom_15  \\\n",
              "0        NaN        NaN        NaN        NaN        NaN        NaN   \n",
              "1        NaN        NaN        NaN        NaN        NaN        NaN   \n",
              "2        NaN        NaN        NaN        NaN        NaN        NaN   \n",
              "3        NaN        NaN        NaN        NaN        NaN        NaN   \n",
              "4        NaN        NaN        NaN        NaN        NaN        NaN   \n",
              "\n",
              "  Symptom_16 Symptom_17  \n",
              "0        NaN        NaN  \n",
              "1        NaN        NaN  \n",
              "2        NaN        NaN  \n",
              "3        NaN        NaN  \n",
              "4        NaN        NaN  "
            ],
            "text/html": [
              "\n",
              "  <div id=\"df-7106b226-cd67-4333-8e0d-6af338fdf137\">\n",
              "    <div class=\"colab-df-container\">\n",
              "      <div>\n",
              "<style scoped>\n",
              "    .dataframe tbody tr th:only-of-type {\n",
              "        vertical-align: middle;\n",
              "    }\n",
              "\n",
              "    .dataframe tbody tr th {\n",
              "        vertical-align: top;\n",
              "    }\n",
              "\n",
              "    .dataframe thead th {\n",
              "        text-align: right;\n",
              "    }\n",
              "</style>\n",
              "<table border=\"1\" class=\"dataframe\">\n",
              "  <thead>\n",
              "    <tr style=\"text-align: right;\">\n",
              "      <th></th>\n",
              "      <th>Disease</th>\n",
              "      <th>Symptom_1</th>\n",
              "      <th>Symptom_2</th>\n",
              "      <th>Symptom_3</th>\n",
              "      <th>Symptom_4</th>\n",
              "      <th>Symptom_5</th>\n",
              "      <th>Symptom_6</th>\n",
              "      <th>Symptom_7</th>\n",
              "      <th>Symptom_8</th>\n",
              "      <th>Symptom_9</th>\n",
              "      <th>Symptom_10</th>\n",
              "      <th>Symptom_11</th>\n",
              "      <th>Symptom_12</th>\n",
              "      <th>Symptom_13</th>\n",
              "      <th>Symptom_14</th>\n",
              "      <th>Symptom_15</th>\n",
              "      <th>Symptom_16</th>\n",
              "      <th>Symptom_17</th>\n",
              "    </tr>\n",
              "  </thead>\n",
              "  <tbody>\n",
              "    <tr>\n",
              "      <th>0</th>\n",
              "      <td>Fungal infection</td>\n",
              "      <td>itching</td>\n",
              "      <td>skin_rash</td>\n",
              "      <td>nodal_skin_eruptions</td>\n",
              "      <td>dischromic _patches</td>\n",
              "      <td>NaN</td>\n",
              "      <td>NaN</td>\n",
              "      <td>NaN</td>\n",
              "      <td>NaN</td>\n",
              "      <td>NaN</td>\n",
              "      <td>NaN</td>\n",
              "      <td>NaN</td>\n",
              "      <td>NaN</td>\n",
              "      <td>NaN</td>\n",
              "      <td>NaN</td>\n",
              "      <td>NaN</td>\n",
              "      <td>NaN</td>\n",
              "      <td>NaN</td>\n",
              "    </tr>\n",
              "    <tr>\n",
              "      <th>1</th>\n",
              "      <td>Fungal infection</td>\n",
              "      <td>skin_rash</td>\n",
              "      <td>nodal_skin_eruptions</td>\n",
              "      <td>dischromic _patches</td>\n",
              "      <td>NaN</td>\n",
              "      <td>NaN</td>\n",
              "      <td>NaN</td>\n",
              "      <td>NaN</td>\n",
              "      <td>NaN</td>\n",
              "      <td>NaN</td>\n",
              "      <td>NaN</td>\n",
              "      <td>NaN</td>\n",
              "      <td>NaN</td>\n",
              "      <td>NaN</td>\n",
              "      <td>NaN</td>\n",
              "      <td>NaN</td>\n",
              "      <td>NaN</td>\n",
              "      <td>NaN</td>\n",
              "    </tr>\n",
              "    <tr>\n",
              "      <th>2</th>\n",
              "      <td>Fungal infection</td>\n",
              "      <td>itching</td>\n",
              "      <td>nodal_skin_eruptions</td>\n",
              "      <td>dischromic _patches</td>\n",
              "      <td>NaN</td>\n",
              "      <td>NaN</td>\n",
              "      <td>NaN</td>\n",
              "      <td>NaN</td>\n",
              "      <td>NaN</td>\n",
              "      <td>NaN</td>\n",
              "      <td>NaN</td>\n",
              "      <td>NaN</td>\n",
              "      <td>NaN</td>\n",
              "      <td>NaN</td>\n",
              "      <td>NaN</td>\n",
              "      <td>NaN</td>\n",
              "      <td>NaN</td>\n",
              "      <td>NaN</td>\n",
              "    </tr>\n",
              "    <tr>\n",
              "      <th>3</th>\n",
              "      <td>Fungal infection</td>\n",
              "      <td>itching</td>\n",
              "      <td>skin_rash</td>\n",
              "      <td>dischromic _patches</td>\n",
              "      <td>NaN</td>\n",
              "      <td>NaN</td>\n",
              "      <td>NaN</td>\n",
              "      <td>NaN</td>\n",
              "      <td>NaN</td>\n",
              "      <td>NaN</td>\n",
              "      <td>NaN</td>\n",
              "      <td>NaN</td>\n",
              "      <td>NaN</td>\n",
              "      <td>NaN</td>\n",
              "      <td>NaN</td>\n",
              "      <td>NaN</td>\n",
              "      <td>NaN</td>\n",
              "      <td>NaN</td>\n",
              "    </tr>\n",
              "    <tr>\n",
              "      <th>4</th>\n",
              "      <td>Fungal infection</td>\n",
              "      <td>itching</td>\n",
              "      <td>skin_rash</td>\n",
              "      <td>nodal_skin_eruptions</td>\n",
              "      <td>NaN</td>\n",
              "      <td>NaN</td>\n",
              "      <td>NaN</td>\n",
              "      <td>NaN</td>\n",
              "      <td>NaN</td>\n",
              "      <td>NaN</td>\n",
              "      <td>NaN</td>\n",
              "      <td>NaN</td>\n",
              "      <td>NaN</td>\n",
              "      <td>NaN</td>\n",
              "      <td>NaN</td>\n",
              "      <td>NaN</td>\n",
              "      <td>NaN</td>\n",
              "      <td>NaN</td>\n",
              "    </tr>\n",
              "  </tbody>\n",
              "</table>\n",
              "</div>\n",
              "      <button class=\"colab-df-convert\" onclick=\"convertToInteractive('df-7106b226-cd67-4333-8e0d-6af338fdf137')\"\n",
              "              title=\"Convert this dataframe to an interactive table.\"\n",
              "              style=\"display:none;\">\n",
              "        \n",
              "  <svg xmlns=\"http://www.w3.org/2000/svg\" height=\"24px\"viewBox=\"0 0 24 24\"\n",
              "       width=\"24px\">\n",
              "    <path d=\"M0 0h24v24H0V0z\" fill=\"none\"/>\n",
              "    <path d=\"M18.56 5.44l.94 2.06.94-2.06 2.06-.94-2.06-.94-.94-2.06-.94 2.06-2.06.94zm-11 1L8.5 8.5l.94-2.06 2.06-.94-2.06-.94L8.5 2.5l-.94 2.06-2.06.94zm10 10l.94 2.06.94-2.06 2.06-.94-2.06-.94-.94-2.06-.94 2.06-2.06.94z\"/><path d=\"M17.41 7.96l-1.37-1.37c-.4-.4-.92-.59-1.43-.59-.52 0-1.04.2-1.43.59L10.3 9.45l-7.72 7.72c-.78.78-.78 2.05 0 2.83L4 21.41c.39.39.9.59 1.41.59.51 0 1.02-.2 1.41-.59l7.78-7.78 2.81-2.81c.8-.78.8-2.07 0-2.86zM5.41 20L4 18.59l7.72-7.72 1.47 1.35L5.41 20z\"/>\n",
              "  </svg>\n",
              "      </button>\n",
              "      \n",
              "  <style>\n",
              "    .colab-df-container {\n",
              "      display:flex;\n",
              "      flex-wrap:wrap;\n",
              "      gap: 12px;\n",
              "    }\n",
              "\n",
              "    .colab-df-convert {\n",
              "      background-color: #E8F0FE;\n",
              "      border: none;\n",
              "      border-radius: 50%;\n",
              "      cursor: pointer;\n",
              "      display: none;\n",
              "      fill: #1967D2;\n",
              "      height: 32px;\n",
              "      padding: 0 0 0 0;\n",
              "      width: 32px;\n",
              "    }\n",
              "\n",
              "    .colab-df-convert:hover {\n",
              "      background-color: #E2EBFA;\n",
              "      box-shadow: 0px 1px 2px rgba(60, 64, 67, 0.3), 0px 1px 3px 1px rgba(60, 64, 67, 0.15);\n",
              "      fill: #174EA6;\n",
              "    }\n",
              "\n",
              "    [theme=dark] .colab-df-convert {\n",
              "      background-color: #3B4455;\n",
              "      fill: #D2E3FC;\n",
              "    }\n",
              "\n",
              "    [theme=dark] .colab-df-convert:hover {\n",
              "      background-color: #434B5C;\n",
              "      box-shadow: 0px 1px 3px 1px rgba(0, 0, 0, 0.15);\n",
              "      filter: drop-shadow(0px 1px 2px rgba(0, 0, 0, 0.3));\n",
              "      fill: #FFFFFF;\n",
              "    }\n",
              "  </style>\n",
              "\n",
              "      <script>\n",
              "        const buttonEl =\n",
              "          document.querySelector('#df-7106b226-cd67-4333-8e0d-6af338fdf137 button.colab-df-convert');\n",
              "        buttonEl.style.display =\n",
              "          google.colab.kernel.accessAllowed ? 'block' : 'none';\n",
              "\n",
              "        async function convertToInteractive(key) {\n",
              "          const element = document.querySelector('#df-7106b226-cd67-4333-8e0d-6af338fdf137');\n",
              "          const dataTable =\n",
              "            await google.colab.kernel.invokeFunction('convertToInteractive',\n",
              "                                                     [key], {});\n",
              "          if (!dataTable) return;\n",
              "\n",
              "          const docLinkHtml = 'Like what you see? Visit the ' +\n",
              "            '<a target=\"_blank\" href=https://colab.research.google.com/notebooks/data_table.ipynb>data table notebook</a>'\n",
              "            + ' to learn more about interactive tables.';\n",
              "          element.innerHTML = '';\n",
              "          dataTable['output_type'] = 'display_data';\n",
              "          await google.colab.output.renderOutput(dataTable, element);\n",
              "          const docLink = document.createElement('div');\n",
              "          docLink.innerHTML = docLinkHtml;\n",
              "          element.appendChild(docLink);\n",
              "        }\n",
              "      </script>\n",
              "    </div>\n",
              "  </div>\n",
              "  "
            ]
          },
          "metadata": {},
          "execution_count": 21
        }
      ]
    },
    {
      "cell_type": "markdown",
      "source": [
        "## **Extracting unique Disease and Symptoms**"
      ],
      "metadata": {
        "id": "mNTj2N__5iwz"
      }
    },
    {
      "cell_type": "code",
      "source": [
        "dise=list(df[\"Disease\"].unique())  #list of all disease unique\n",
        "dise"
      ],
      "metadata": {
        "id": "7d5hgtiw5rfP",
        "colab": {
          "base_uri": "https://localhost:8080/"
        },
        "outputId": "d96776dc-736f-4c39-c667-bf8ceadfddc7"
      },
      "execution_count": 10,
      "outputs": [
        {
          "output_type": "execute_result",
          "data": {
            "text/plain": [
              "['Fungal infection',\n",
              " 'Allergy',\n",
              " 'GERD',\n",
              " 'Chronic cholestasis',\n",
              " 'Drug Reaction',\n",
              " 'Peptic ulcer diseae',\n",
              " 'AIDS',\n",
              " 'Diabetes ',\n",
              " 'Gastroenteritis',\n",
              " 'Bronchial Asthma',\n",
              " 'Hypertension ',\n",
              " 'Migraine',\n",
              " 'Cervical spondylosis',\n",
              " 'Paralysis (brain hemorrhage)',\n",
              " 'Jaundice',\n",
              " 'Malaria',\n",
              " 'Chicken pox',\n",
              " 'Dengue',\n",
              " 'Typhoid',\n",
              " 'hepatitis A',\n",
              " 'Hepatitis B',\n",
              " 'Hepatitis C',\n",
              " 'Hepatitis D',\n",
              " 'Hepatitis E',\n",
              " 'Alcoholic hepatitis',\n",
              " 'Tuberculosis',\n",
              " 'Common Cold',\n",
              " 'Pneumonia',\n",
              " 'Dimorphic hemmorhoids(piles)',\n",
              " 'Heart attack',\n",
              " 'Varicose veins',\n",
              " 'Hypothyroidism',\n",
              " 'Hyperthyroidism',\n",
              " 'Hypoglycemia',\n",
              " 'Osteoarthristis',\n",
              " 'Arthritis',\n",
              " '(vertigo) Paroymsal  Positional Vertigo',\n",
              " 'Acne',\n",
              " 'Urinary tract infection',\n",
              " 'Psoriasis',\n",
              " 'Impetigo']"
            ]
          },
          "metadata": {},
          "execution_count": 10
        }
      ]
    },
    {
      "cell_type": "code",
      "source": [
        "len(dise)"
      ],
      "metadata": {
        "id": "iD8RXf-iL3x3",
        "colab": {
          "base_uri": "https://localhost:8080/"
        },
        "outputId": "bc536ff3-e0ac-406f-b447-b06d559f923e"
      },
      "execution_count": 11,
      "outputs": [
        {
          "output_type": "execute_result",
          "data": {
            "text/plain": [
              "41"
            ]
          },
          "metadata": {},
          "execution_count": 11
        }
      ]
    },
    {
      "cell_type": "code",
      "source": [
        "sym=df[[\"Symptom_1\",\"Symptom_2\",\"Symptom_3\",\"Symptom_4\",\"Symptom_5\",\"Symptom_6\",\"Symptom_7\",\"Symptom_8\",\"Symptom_9\",\"Symptom_10\",\"Symptom_11\",\"Symptom_12\",\"Symptom_13\",\"Symptom_14\",\"Symptom_15\",\"Symptom_16\",\"Symptom_17\"]].stack().unique().tolist()\n",
        "sym"
      ],
      "metadata": {
        "id": "xzvLf0TX7D3y",
        "colab": {
          "base_uri": "https://localhost:8080/"
        },
        "outputId": "3e400608-17cb-4a45-bd2b-664ae9fafbc4"
      },
      "execution_count": 12,
      "outputs": [
        {
          "output_type": "execute_result",
          "data": {
            "text/plain": [
              "['itching',\n",
              " ' skin_rash',\n",
              " ' nodal_skin_eruptions',\n",
              " ' dischromic _patches',\n",
              " ' continuous_sneezing',\n",
              " ' shivering',\n",
              " ' chills',\n",
              " ' watering_from_eyes',\n",
              " ' stomach_pain',\n",
              " ' acidity',\n",
              " ' ulcers_on_tongue',\n",
              " ' vomiting',\n",
              " ' cough',\n",
              " ' chest_pain',\n",
              " ' yellowish_skin',\n",
              " ' nausea',\n",
              " ' loss_of_appetite',\n",
              " ' abdominal_pain',\n",
              " ' yellowing_of_eyes',\n",
              " ' burning_micturition',\n",
              " ' spotting_ urination',\n",
              " ' passage_of_gases',\n",
              " ' internal_itching',\n",
              " ' indigestion',\n",
              " ' muscle_wasting',\n",
              " ' patches_in_throat',\n",
              " ' high_fever',\n",
              " ' extra_marital_contacts',\n",
              " ' fatigue',\n",
              " ' weight_loss',\n",
              " ' restlessness',\n",
              " ' lethargy',\n",
              " ' irregular_sugar_level',\n",
              " ' blurred_and_distorted_vision',\n",
              " ' obesity',\n",
              " ' excessive_hunger',\n",
              " ' increased_appetite',\n",
              " ' polyuria',\n",
              " ' sunken_eyes',\n",
              " ' dehydration',\n",
              " ' diarrhoea',\n",
              " ' breathlessness',\n",
              " ' family_history',\n",
              " ' mucoid_sputum',\n",
              " ' headache',\n",
              " ' dizziness',\n",
              " ' loss_of_balance',\n",
              " ' lack_of_concentration',\n",
              " ' stiff_neck',\n",
              " ' depression',\n",
              " ' irritability',\n",
              " ' visual_disturbances',\n",
              " ' back_pain',\n",
              " ' weakness_in_limbs',\n",
              " ' neck_pain',\n",
              " ' weakness_of_one_body_side',\n",
              " ' altered_sensorium',\n",
              " ' dark_urine',\n",
              " ' sweating',\n",
              " ' muscle_pain',\n",
              " ' mild_fever',\n",
              " ' swelled_lymph_nodes',\n",
              " ' malaise',\n",
              " ' red_spots_over_body',\n",
              " ' joint_pain',\n",
              " ' pain_behind_the_eyes',\n",
              " ' constipation',\n",
              " ' toxic_look_(typhos)',\n",
              " ' belly_pain',\n",
              " ' yellow_urine',\n",
              " ' receiving_blood_transfusion',\n",
              " ' receiving_unsterile_injections',\n",
              " ' coma',\n",
              " ' stomach_bleeding',\n",
              " ' acute_liver_failure',\n",
              " ' swelling_of_stomach',\n",
              " ' distention_of_abdomen',\n",
              " ' history_of_alcohol_consumption',\n",
              " ' fluid_overload',\n",
              " ' phlegm',\n",
              " ' blood_in_sputum',\n",
              " ' throat_irritation',\n",
              " ' redness_of_eyes',\n",
              " ' sinus_pressure',\n",
              " ' runny_nose',\n",
              " ' congestion',\n",
              " ' loss_of_smell',\n",
              " ' fast_heart_rate',\n",
              " ' rusty_sputum',\n",
              " ' pain_during_bowel_movements',\n",
              " ' pain_in_anal_region',\n",
              " ' bloody_stool',\n",
              " ' irritation_in_anus',\n",
              " ' cramps',\n",
              " ' bruising',\n",
              " ' swollen_legs',\n",
              " ' swollen_blood_vessels',\n",
              " ' prominent_veins_on_calf',\n",
              " ' weight_gain',\n",
              " ' cold_hands_and_feets',\n",
              " ' mood_swings',\n",
              " ' puffy_face_and_eyes',\n",
              " ' enlarged_thyroid',\n",
              " ' brittle_nails',\n",
              " ' swollen_extremeties',\n",
              " ' abnormal_menstruation',\n",
              " ' muscle_weakness',\n",
              " ' anxiety',\n",
              " ' slurred_speech',\n",
              " ' palpitations',\n",
              " ' drying_and_tingling_lips',\n",
              " ' knee_pain',\n",
              " ' hip_joint_pain',\n",
              " ' swelling_joints',\n",
              " ' painful_walking',\n",
              " ' movement_stiffness',\n",
              " ' spinning_movements',\n",
              " ' unsteadiness',\n",
              " ' pus_filled_pimples',\n",
              " ' blackheads',\n",
              " ' scurring',\n",
              " ' bladder_discomfort',\n",
              " ' foul_smell_of urine',\n",
              " ' continuous_feel_of_urine',\n",
              " ' skin_peeling',\n",
              " ' silver_like_dusting',\n",
              " ' small_dents_in_nails',\n",
              " ' inflammatory_nails',\n",
              " ' blister',\n",
              " ' red_sore_around_nose',\n",
              " ' yellow_crust_ooze']"
            ]
          },
          "metadata": {},
          "execution_count": 12
        }
      ]
    },
    {
      "cell_type": "code",
      "source": [
        "len(sym)"
      ],
      "metadata": {
        "id": "lc2vj3u5L2p4",
        "colab": {
          "base_uri": "https://localhost:8080/"
        },
        "outputId": "7b84e74d-8eb3-4c8d-eac0-2ecb632c2b0e"
      },
      "execution_count": 13,
      "outputs": [
        {
          "output_type": "execute_result",
          "data": {
            "text/plain": [
              "131"
            ]
          },
          "metadata": {},
          "execution_count": 13
        }
      ]
    },
    {
      "cell_type": "code",
      "source": [
        "df.isnull().sum()"
      ],
      "metadata": {
        "colab": {
          "base_uri": "https://localhost:8080/"
        },
        "id": "J4ggFIw65aEU",
        "outputId": "11fde375-0bc1-4eba-a7ad-4b368752de58"
      },
      "execution_count": 14,
      "outputs": [
        {
          "output_type": "execute_result",
          "data": {
            "text/plain": [
              "Disease          0\n",
              "Symptom_1        0\n",
              "Symptom_2        0\n",
              "Symptom_3        0\n",
              "Symptom_4      348\n",
              "Symptom_5     1206\n",
              "Symptom_6     1986\n",
              "Symptom_7     2652\n",
              "Symptom_8     2976\n",
              "Symptom_9     3228\n",
              "Symptom_10    3408\n",
              "Symptom_11    3726\n",
              "Symptom_12    4176\n",
              "Symptom_13    4416\n",
              "Symptom_14    4614\n",
              "Symptom_15    4680\n",
              "Symptom_16    4728\n",
              "Symptom_17    4848\n",
              "dtype: int64"
            ]
          },
          "metadata": {},
          "execution_count": 14
        }
      ]
    },
    {
      "cell_type": "markdown",
      "source": [
        "## **Filling NaN values**"
      ],
      "metadata": {
        "id": "jyHAmJuLjW5e"
      }
    },
    {
      "cell_type": "code",
      "source": [
        "for i in range(len(df)):\n",
        "  y=df.iloc[i,1:18]                           \n",
        "  v=y.mode()\n",
        "  df.iloc[i,1:18].fillna(v[0],inplace=True)\n",
        "\n",
        "df"
      ],
      "metadata": {
        "id": "wXdcnlo9PC1V",
        "colab": {
          "base_uri": "https://localhost:8080/",
          "height": 661
        },
        "outputId": "605a8e56-6792-4f79-d0ad-0eb9ae9f1cd8"
      },
      "execution_count": 15,
      "outputs": [
        {
          "output_type": "execute_result",
          "data": {
            "text/plain": [
              "                                      Disease             Symptom_1  \\\n",
              "0                            Fungal infection               itching   \n",
              "1                            Fungal infection             skin_rash   \n",
              "2                            Fungal infection               itching   \n",
              "3                            Fungal infection               itching   \n",
              "4                            Fungal infection               itching   \n",
              "...                                       ...                   ...   \n",
              "4915  (vertigo) Paroymsal  Positional Vertigo              vomiting   \n",
              "4916                                     Acne             skin_rash   \n",
              "4917                  Urinary tract infection   burning_micturition   \n",
              "4918                                Psoriasis             skin_rash   \n",
              "4919                                 Impetigo             skin_rash   \n",
              "\n",
              "                  Symptom_2              Symptom_3                  Symptom_4  \\\n",
              "0                 skin_rash   nodal_skin_eruptions        dischromic _patches   \n",
              "1      nodal_skin_eruptions    dischromic _patches        dischromic _patches   \n",
              "2      nodal_skin_eruptions    dischromic _patches        dischromic _patches   \n",
              "3                 skin_rash    dischromic _patches        dischromic _patches   \n",
              "4                 skin_rash   nodal_skin_eruptions       nodal_skin_eruptions   \n",
              "...                     ...                    ...                        ...   \n",
              "4915               headache                 nausea         spinning_movements   \n",
              "4916     pus_filled_pimples             blackheads                   scurring   \n",
              "4917     bladder_discomfort    foul_smell_of urine   continuous_feel_of_urine   \n",
              "4918             joint_pain           skin_peeling        silver_like_dusting   \n",
              "4919             high_fever                blister       red_sore_around_nose   \n",
              "\n",
              "                  Symptom_5              Symptom_6              Symptom_7  \\\n",
              "0       dischromic _patches    dischromic _patches    dischromic _patches   \n",
              "1       dischromic _patches    dischromic _patches    dischromic _patches   \n",
              "2       dischromic _patches    dischromic _patches    dischromic _patches   \n",
              "3       dischromic _patches    dischromic _patches    dischromic _patches   \n",
              "4      nodal_skin_eruptions   nodal_skin_eruptions   nodal_skin_eruptions   \n",
              "...                     ...                    ...                    ...   \n",
              "4915        loss_of_balance           unsteadiness               headache   \n",
              "4916             blackheads             blackheads             blackheads   \n",
              "4917     bladder_discomfort     bladder_discomfort     bladder_discomfort   \n",
              "4918   small_dents_in_nails     inflammatory_nails     inflammatory_nails   \n",
              "4919      yellow_crust_ooze                blister                blister   \n",
              "\n",
              "                  Symptom_8              Symptom_9             Symptom_10  \\\n",
              "0       dischromic _patches    dischromic _patches    dischromic _patches   \n",
              "1       dischromic _patches    dischromic _patches    dischromic _patches   \n",
              "2       dischromic _patches    dischromic _patches    dischromic _patches   \n",
              "3       dischromic _patches    dischromic _patches    dischromic _patches   \n",
              "4      nodal_skin_eruptions   nodal_skin_eruptions   nodal_skin_eruptions   \n",
              "...                     ...                    ...                    ...   \n",
              "4915               headache               headache               headache   \n",
              "4916             blackheads             blackheads             blackheads   \n",
              "4917     bladder_discomfort     bladder_discomfort     bladder_discomfort   \n",
              "4918     inflammatory_nails     inflammatory_nails     inflammatory_nails   \n",
              "4919                blister                blister                blister   \n",
              "\n",
              "                 Symptom_11             Symptom_12             Symptom_13  \\\n",
              "0       dischromic _patches    dischromic _patches    dischromic _patches   \n",
              "1       dischromic _patches    dischromic _patches    dischromic _patches   \n",
              "2       dischromic _patches    dischromic _patches    dischromic _patches   \n",
              "3       dischromic _patches    dischromic _patches    dischromic _patches   \n",
              "4      nodal_skin_eruptions   nodal_skin_eruptions   nodal_skin_eruptions   \n",
              "...                     ...                    ...                    ...   \n",
              "4915               headache               headache               headache   \n",
              "4916             blackheads             blackheads             blackheads   \n",
              "4917     bladder_discomfort     bladder_discomfort     bladder_discomfort   \n",
              "4918     inflammatory_nails     inflammatory_nails     inflammatory_nails   \n",
              "4919                blister                blister                blister   \n",
              "\n",
              "                 Symptom_14             Symptom_15             Symptom_16  \\\n",
              "0       dischromic _patches    dischromic _patches    dischromic _patches   \n",
              "1       dischromic _patches    dischromic _patches    dischromic _patches   \n",
              "2       dischromic _patches    dischromic _patches    dischromic _patches   \n",
              "3       dischromic _patches    dischromic _patches    dischromic _patches   \n",
              "4      nodal_skin_eruptions   nodal_skin_eruptions   nodal_skin_eruptions   \n",
              "...                     ...                    ...                    ...   \n",
              "4915               headache               headache               headache   \n",
              "4916             blackheads             blackheads             blackheads   \n",
              "4917     bladder_discomfort     bladder_discomfort     bladder_discomfort   \n",
              "4918     inflammatory_nails     inflammatory_nails     inflammatory_nails   \n",
              "4919                blister                blister                blister   \n",
              "\n",
              "                 Symptom_17  \n",
              "0       dischromic _patches  \n",
              "1       dischromic _patches  \n",
              "2       dischromic _patches  \n",
              "3       dischromic _patches  \n",
              "4      nodal_skin_eruptions  \n",
              "...                     ...  \n",
              "4915               headache  \n",
              "4916             blackheads  \n",
              "4917     bladder_discomfort  \n",
              "4918     inflammatory_nails  \n",
              "4919                blister  \n",
              "\n",
              "[4920 rows x 18 columns]"
            ],
            "text/html": [
              "\n",
              "  <div id=\"df-b5ec7303-bdeb-47ba-a12a-d650e36466da\">\n",
              "    <div class=\"colab-df-container\">\n",
              "      <div>\n",
              "<style scoped>\n",
              "    .dataframe tbody tr th:only-of-type {\n",
              "        vertical-align: middle;\n",
              "    }\n",
              "\n",
              "    .dataframe tbody tr th {\n",
              "        vertical-align: top;\n",
              "    }\n",
              "\n",
              "    .dataframe thead th {\n",
              "        text-align: right;\n",
              "    }\n",
              "</style>\n",
              "<table border=\"1\" class=\"dataframe\">\n",
              "  <thead>\n",
              "    <tr style=\"text-align: right;\">\n",
              "      <th></th>\n",
              "      <th>Disease</th>\n",
              "      <th>Symptom_1</th>\n",
              "      <th>Symptom_2</th>\n",
              "      <th>Symptom_3</th>\n",
              "      <th>Symptom_4</th>\n",
              "      <th>Symptom_5</th>\n",
              "      <th>Symptom_6</th>\n",
              "      <th>Symptom_7</th>\n",
              "      <th>Symptom_8</th>\n",
              "      <th>Symptom_9</th>\n",
              "      <th>Symptom_10</th>\n",
              "      <th>Symptom_11</th>\n",
              "      <th>Symptom_12</th>\n",
              "      <th>Symptom_13</th>\n",
              "      <th>Symptom_14</th>\n",
              "      <th>Symptom_15</th>\n",
              "      <th>Symptom_16</th>\n",
              "      <th>Symptom_17</th>\n",
              "    </tr>\n",
              "  </thead>\n",
              "  <tbody>\n",
              "    <tr>\n",
              "      <th>0</th>\n",
              "      <td>Fungal infection</td>\n",
              "      <td>itching</td>\n",
              "      <td>skin_rash</td>\n",
              "      <td>nodal_skin_eruptions</td>\n",
              "      <td>dischromic _patches</td>\n",
              "      <td>dischromic _patches</td>\n",
              "      <td>dischromic _patches</td>\n",
              "      <td>dischromic _patches</td>\n",
              "      <td>dischromic _patches</td>\n",
              "      <td>dischromic _patches</td>\n",
              "      <td>dischromic _patches</td>\n",
              "      <td>dischromic _patches</td>\n",
              "      <td>dischromic _patches</td>\n",
              "      <td>dischromic _patches</td>\n",
              "      <td>dischromic _patches</td>\n",
              "      <td>dischromic _patches</td>\n",
              "      <td>dischromic _patches</td>\n",
              "      <td>dischromic _patches</td>\n",
              "    </tr>\n",
              "    <tr>\n",
              "      <th>1</th>\n",
              "      <td>Fungal infection</td>\n",
              "      <td>skin_rash</td>\n",
              "      <td>nodal_skin_eruptions</td>\n",
              "      <td>dischromic _patches</td>\n",
              "      <td>dischromic _patches</td>\n",
              "      <td>dischromic _patches</td>\n",
              "      <td>dischromic _patches</td>\n",
              "      <td>dischromic _patches</td>\n",
              "      <td>dischromic _patches</td>\n",
              "      <td>dischromic _patches</td>\n",
              "      <td>dischromic _patches</td>\n",
              "      <td>dischromic _patches</td>\n",
              "      <td>dischromic _patches</td>\n",
              "      <td>dischromic _patches</td>\n",
              "      <td>dischromic _patches</td>\n",
              "      <td>dischromic _patches</td>\n",
              "      <td>dischromic _patches</td>\n",
              "      <td>dischromic _patches</td>\n",
              "    </tr>\n",
              "    <tr>\n",
              "      <th>2</th>\n",
              "      <td>Fungal infection</td>\n",
              "      <td>itching</td>\n",
              "      <td>nodal_skin_eruptions</td>\n",
              "      <td>dischromic _patches</td>\n",
              "      <td>dischromic _patches</td>\n",
              "      <td>dischromic _patches</td>\n",
              "      <td>dischromic _patches</td>\n",
              "      <td>dischromic _patches</td>\n",
              "      <td>dischromic _patches</td>\n",
              "      <td>dischromic _patches</td>\n",
              "      <td>dischromic _patches</td>\n",
              "      <td>dischromic _patches</td>\n",
              "      <td>dischromic _patches</td>\n",
              "      <td>dischromic _patches</td>\n",
              "      <td>dischromic _patches</td>\n",
              "      <td>dischromic _patches</td>\n",
              "      <td>dischromic _patches</td>\n",
              "      <td>dischromic _patches</td>\n",
              "    </tr>\n",
              "    <tr>\n",
              "      <th>3</th>\n",
              "      <td>Fungal infection</td>\n",
              "      <td>itching</td>\n",
              "      <td>skin_rash</td>\n",
              "      <td>dischromic _patches</td>\n",
              "      <td>dischromic _patches</td>\n",
              "      <td>dischromic _patches</td>\n",
              "      <td>dischromic _patches</td>\n",
              "      <td>dischromic _patches</td>\n",
              "      <td>dischromic _patches</td>\n",
              "      <td>dischromic _patches</td>\n",
              "      <td>dischromic _patches</td>\n",
              "      <td>dischromic _patches</td>\n",
              "      <td>dischromic _patches</td>\n",
              "      <td>dischromic _patches</td>\n",
              "      <td>dischromic _patches</td>\n",
              "      <td>dischromic _patches</td>\n",
              "      <td>dischromic _patches</td>\n",
              "      <td>dischromic _patches</td>\n",
              "    </tr>\n",
              "    <tr>\n",
              "      <th>4</th>\n",
              "      <td>Fungal infection</td>\n",
              "      <td>itching</td>\n",
              "      <td>skin_rash</td>\n",
              "      <td>nodal_skin_eruptions</td>\n",
              "      <td>nodal_skin_eruptions</td>\n",
              "      <td>nodal_skin_eruptions</td>\n",
              "      <td>nodal_skin_eruptions</td>\n",
              "      <td>nodal_skin_eruptions</td>\n",
              "      <td>nodal_skin_eruptions</td>\n",
              "      <td>nodal_skin_eruptions</td>\n",
              "      <td>nodal_skin_eruptions</td>\n",
              "      <td>nodal_skin_eruptions</td>\n",
              "      <td>nodal_skin_eruptions</td>\n",
              "      <td>nodal_skin_eruptions</td>\n",
              "      <td>nodal_skin_eruptions</td>\n",
              "      <td>nodal_skin_eruptions</td>\n",
              "      <td>nodal_skin_eruptions</td>\n",
              "      <td>nodal_skin_eruptions</td>\n",
              "    </tr>\n",
              "    <tr>\n",
              "      <th>...</th>\n",
              "      <td>...</td>\n",
              "      <td>...</td>\n",
              "      <td>...</td>\n",
              "      <td>...</td>\n",
              "      <td>...</td>\n",
              "      <td>...</td>\n",
              "      <td>...</td>\n",
              "      <td>...</td>\n",
              "      <td>...</td>\n",
              "      <td>...</td>\n",
              "      <td>...</td>\n",
              "      <td>...</td>\n",
              "      <td>...</td>\n",
              "      <td>...</td>\n",
              "      <td>...</td>\n",
              "      <td>...</td>\n",
              "      <td>...</td>\n",
              "      <td>...</td>\n",
              "    </tr>\n",
              "    <tr>\n",
              "      <th>4915</th>\n",
              "      <td>(vertigo) Paroymsal  Positional Vertigo</td>\n",
              "      <td>vomiting</td>\n",
              "      <td>headache</td>\n",
              "      <td>nausea</td>\n",
              "      <td>spinning_movements</td>\n",
              "      <td>loss_of_balance</td>\n",
              "      <td>unsteadiness</td>\n",
              "      <td>headache</td>\n",
              "      <td>headache</td>\n",
              "      <td>headache</td>\n",
              "      <td>headache</td>\n",
              "      <td>headache</td>\n",
              "      <td>headache</td>\n",
              "      <td>headache</td>\n",
              "      <td>headache</td>\n",
              "      <td>headache</td>\n",
              "      <td>headache</td>\n",
              "      <td>headache</td>\n",
              "    </tr>\n",
              "    <tr>\n",
              "      <th>4916</th>\n",
              "      <td>Acne</td>\n",
              "      <td>skin_rash</td>\n",
              "      <td>pus_filled_pimples</td>\n",
              "      <td>blackheads</td>\n",
              "      <td>scurring</td>\n",
              "      <td>blackheads</td>\n",
              "      <td>blackheads</td>\n",
              "      <td>blackheads</td>\n",
              "      <td>blackheads</td>\n",
              "      <td>blackheads</td>\n",
              "      <td>blackheads</td>\n",
              "      <td>blackheads</td>\n",
              "      <td>blackheads</td>\n",
              "      <td>blackheads</td>\n",
              "      <td>blackheads</td>\n",
              "      <td>blackheads</td>\n",
              "      <td>blackheads</td>\n",
              "      <td>blackheads</td>\n",
              "    </tr>\n",
              "    <tr>\n",
              "      <th>4917</th>\n",
              "      <td>Urinary tract infection</td>\n",
              "      <td>burning_micturition</td>\n",
              "      <td>bladder_discomfort</td>\n",
              "      <td>foul_smell_of urine</td>\n",
              "      <td>continuous_feel_of_urine</td>\n",
              "      <td>bladder_discomfort</td>\n",
              "      <td>bladder_discomfort</td>\n",
              "      <td>bladder_discomfort</td>\n",
              "      <td>bladder_discomfort</td>\n",
              "      <td>bladder_discomfort</td>\n",
              "      <td>bladder_discomfort</td>\n",
              "      <td>bladder_discomfort</td>\n",
              "      <td>bladder_discomfort</td>\n",
              "      <td>bladder_discomfort</td>\n",
              "      <td>bladder_discomfort</td>\n",
              "      <td>bladder_discomfort</td>\n",
              "      <td>bladder_discomfort</td>\n",
              "      <td>bladder_discomfort</td>\n",
              "    </tr>\n",
              "    <tr>\n",
              "      <th>4918</th>\n",
              "      <td>Psoriasis</td>\n",
              "      <td>skin_rash</td>\n",
              "      <td>joint_pain</td>\n",
              "      <td>skin_peeling</td>\n",
              "      <td>silver_like_dusting</td>\n",
              "      <td>small_dents_in_nails</td>\n",
              "      <td>inflammatory_nails</td>\n",
              "      <td>inflammatory_nails</td>\n",
              "      <td>inflammatory_nails</td>\n",
              "      <td>inflammatory_nails</td>\n",
              "      <td>inflammatory_nails</td>\n",
              "      <td>inflammatory_nails</td>\n",
              "      <td>inflammatory_nails</td>\n",
              "      <td>inflammatory_nails</td>\n",
              "      <td>inflammatory_nails</td>\n",
              "      <td>inflammatory_nails</td>\n",
              "      <td>inflammatory_nails</td>\n",
              "      <td>inflammatory_nails</td>\n",
              "    </tr>\n",
              "    <tr>\n",
              "      <th>4919</th>\n",
              "      <td>Impetigo</td>\n",
              "      <td>skin_rash</td>\n",
              "      <td>high_fever</td>\n",
              "      <td>blister</td>\n",
              "      <td>red_sore_around_nose</td>\n",
              "      <td>yellow_crust_ooze</td>\n",
              "      <td>blister</td>\n",
              "      <td>blister</td>\n",
              "      <td>blister</td>\n",
              "      <td>blister</td>\n",
              "      <td>blister</td>\n",
              "      <td>blister</td>\n",
              "      <td>blister</td>\n",
              "      <td>blister</td>\n",
              "      <td>blister</td>\n",
              "      <td>blister</td>\n",
              "      <td>blister</td>\n",
              "      <td>blister</td>\n",
              "    </tr>\n",
              "  </tbody>\n",
              "</table>\n",
              "<p>4920 rows × 18 columns</p>\n",
              "</div>\n",
              "      <button class=\"colab-df-convert\" onclick=\"convertToInteractive('df-b5ec7303-bdeb-47ba-a12a-d650e36466da')\"\n",
              "              title=\"Convert this dataframe to an interactive table.\"\n",
              "              style=\"display:none;\">\n",
              "        \n",
              "  <svg xmlns=\"http://www.w3.org/2000/svg\" height=\"24px\"viewBox=\"0 0 24 24\"\n",
              "       width=\"24px\">\n",
              "    <path d=\"M0 0h24v24H0V0z\" fill=\"none\"/>\n",
              "    <path d=\"M18.56 5.44l.94 2.06.94-2.06 2.06-.94-2.06-.94-.94-2.06-.94 2.06-2.06.94zm-11 1L8.5 8.5l.94-2.06 2.06-.94-2.06-.94L8.5 2.5l-.94 2.06-2.06.94zm10 10l.94 2.06.94-2.06 2.06-.94-2.06-.94-.94-2.06-.94 2.06-2.06.94z\"/><path d=\"M17.41 7.96l-1.37-1.37c-.4-.4-.92-.59-1.43-.59-.52 0-1.04.2-1.43.59L10.3 9.45l-7.72 7.72c-.78.78-.78 2.05 0 2.83L4 21.41c.39.39.9.59 1.41.59.51 0 1.02-.2 1.41-.59l7.78-7.78 2.81-2.81c.8-.78.8-2.07 0-2.86zM5.41 20L4 18.59l7.72-7.72 1.47 1.35L5.41 20z\"/>\n",
              "  </svg>\n",
              "      </button>\n",
              "      \n",
              "  <style>\n",
              "    .colab-df-container {\n",
              "      display:flex;\n",
              "      flex-wrap:wrap;\n",
              "      gap: 12px;\n",
              "    }\n",
              "\n",
              "    .colab-df-convert {\n",
              "      background-color: #E8F0FE;\n",
              "      border: none;\n",
              "      border-radius: 50%;\n",
              "      cursor: pointer;\n",
              "      display: none;\n",
              "      fill: #1967D2;\n",
              "      height: 32px;\n",
              "      padding: 0 0 0 0;\n",
              "      width: 32px;\n",
              "    }\n",
              "\n",
              "    .colab-df-convert:hover {\n",
              "      background-color: #E2EBFA;\n",
              "      box-shadow: 0px 1px 2px rgba(60, 64, 67, 0.3), 0px 1px 3px 1px rgba(60, 64, 67, 0.15);\n",
              "      fill: #174EA6;\n",
              "    }\n",
              "\n",
              "    [theme=dark] .colab-df-convert {\n",
              "      background-color: #3B4455;\n",
              "      fill: #D2E3FC;\n",
              "    }\n",
              "\n",
              "    [theme=dark] .colab-df-convert:hover {\n",
              "      background-color: #434B5C;\n",
              "      box-shadow: 0px 1px 3px 1px rgba(0, 0, 0, 0.15);\n",
              "      filter: drop-shadow(0px 1px 2px rgba(0, 0, 0, 0.3));\n",
              "      fill: #FFFFFF;\n",
              "    }\n",
              "  </style>\n",
              "\n",
              "      <script>\n",
              "        const buttonEl =\n",
              "          document.querySelector('#df-b5ec7303-bdeb-47ba-a12a-d650e36466da button.colab-df-convert');\n",
              "        buttonEl.style.display =\n",
              "          google.colab.kernel.accessAllowed ? 'block' : 'none';\n",
              "\n",
              "        async function convertToInteractive(key) {\n",
              "          const element = document.querySelector('#df-b5ec7303-bdeb-47ba-a12a-d650e36466da');\n",
              "          const dataTable =\n",
              "            await google.colab.kernel.invokeFunction('convertToInteractive',\n",
              "                                                     [key], {});\n",
              "          if (!dataTable) return;\n",
              "\n",
              "          const docLinkHtml = 'Like what you see? Visit the ' +\n",
              "            '<a target=\"_blank\" href=https://colab.research.google.com/notebooks/data_table.ipynb>data table notebook</a>'\n",
              "            + ' to learn more about interactive tables.';\n",
              "          element.innerHTML = '';\n",
              "          dataTable['output_type'] = 'display_data';\n",
              "          await google.colab.output.renderOutput(dataTable, element);\n",
              "          const docLink = document.createElement('div');\n",
              "          docLink.innerHTML = docLinkHtml;\n",
              "          element.appendChild(docLink);\n",
              "        }\n",
              "      </script>\n",
              "    </div>\n",
              "  </div>\n",
              "  "
            ]
          },
          "metadata": {},
          "execution_count": 15
        }
      ]
    },
    {
      "cell_type": "markdown",
      "source": [
        "# Data Visualization"
      ],
      "metadata": {
        "id": "dRykI0A1pY5u"
      }
    },
    {
      "cell_type": "code",
      "source": [
        "# importing library\n",
        "import seaborn as sns\n",
        "\n",
        "# Defining the columns to use the scatter plot\n",
        "x_columns = [\"Symptom_1\",\"Symptom_2\",\"Symptom_3\",\"Symptom_4\",\"Symptom_5\",\"Symptom_6\",\"Symptom_7\",\"Symptom_8\",\"Symptom_9\",\"Symptom_10\",\"Symptom_11\",\"Symptom_12\",\"Symptom_13\",\"Symptom_14\",\"Symptom_15\",\"Symptom_16\",\"Symptom_17\"]\n",
        "y_column = 'Disease'\n",
        "\n",
        "# Setting the size of the plot\n",
        "fig, ax = plt.subplots(figsize=(15,15))\n",
        "sns.scatterplot(data=df, x=x_columns[0], y=y_column, ax=ax)\n",
        "\n",
        "# Adding additional scatter plots for the remaining columns\n",
        "for i in range(1, len(x_columns)):\n",
        "    sns.scatterplot(data=df, x=x_columns[i], y=y_column, ax=ax)"
      ],
      "metadata": {
        "id": "GIv59qyWw7M7",
        "outputId": "ddd0449b-ce5f-43b0-d240-409abe651334",
        "colab": {
          "base_uri": "https://localhost:8080/",
          "height": 1000
        }
      },
      "execution_count": 16,
      "outputs": [
        {
          "output_type": "display_data",
          "data": {
            "text/plain": [
              "<Figure size 1500x1500 with 1 Axes>"
            ],
            "image/png": "[encoded data removed]"
          },
          "metadata": {}
        }
      ]
    },
    {
      "cell_type": "markdown",
      "source": [
        "# Implementing Naive Bayes (GaussianNB) and KNN"
      ],
      "metadata": {
        "id": "VekyrasHm_5T"
      }
    },
    {
      "cell_type": "code",
      "source": [
        "# importing relevant libraries\n",
        "from sklearn.model_selection import train_test_split\n",
        "from sklearn.naive_bayes import GaussianNB\n",
        "from sklearn.metrics import accuracy_score, precision_score, recall_score, f1_score"
      ],
      "metadata": {
        "id": "6InJQVrKkRA2"
      },
      "execution_count": 48,
      "outputs": []
    },
    {
      "cell_type": "code",
      "source": [
        "# splitting the dataset with 79% for training and 21% for testing\n",
        "X=df.iloc[:,1:]\n",
        "y=df.iloc[:,0]\n",
        "X_train, X_test, y_train, y_test = train_test_split(X, y, test_size=0.21, random_state=42)"
      ],
      "metadata": {
        "id": "9BOGRp32KIJ6"
      },
      "execution_count": 49,
      "outputs": []
    },
    {
      "cell_type": "markdown",
      "source": [
        "**LABEL ENCODING**"
      ],
      "metadata": {
        "id": "00b9qROmV62Q"
      }
    },
    {
      "cell_type": "code",
      "source": [
        "# importing library and label encoding using .fit_transform\n",
        "from sklearn.preprocessing import LabelEncoder\n",
        "la=LabelEncoder()\n",
        "X_train=X_train.apply(LabelEncoder().fit_transform)\n",
        "X_test=X_test.apply(LabelEncoder().fit_transform)"
      ],
      "metadata": {
        "id": "SSJ8twOMKUZ5"
      },
      "execution_count": 19,
      "outputs": []
    },
    {
      "cell_type": "markdown",
      "source": [
        "**GaussianNB**"
      ],
      "metadata": {
        "id": "w1TrMdPEloLp"
      }
    },
    {
      "cell_type": "code",
      "source": [
        "#implementing Gaussian NB model\n",
        "nb=GaussianNB()\n",
        "nb.fit(X_train,y_train)"
      ],
      "metadata": {
        "id": "h9h0aVlk9MfT",
        "colab": {
          "base_uri": "https://localhost:8080/",
          "height": 74
        },
        "outputId": "6cb05dcf-0e2b-41f7-c514-6f8f85170f12"
      },
      "execution_count": 22,
      "outputs": [
        {
          "output_type": "execute_result",
          "data": {
            "text/plain": [
              "GaussianNB()"
            ],
            "text/html": [
              "<style>#sk-container-id-1 {color: black;background-color: white;}#sk-container-id-1 pre{padding: 0;}#sk-container-id-1 div.sk-toggleable {background-color: white;}#sk-container-id-1 label.sk-toggleable__label {cursor: pointer;display: block;width: 100%;margin-bottom: 0;padding: 0.3em;box-sizing: border-box;text-align: center;}#sk-container-id-1 label.sk-toggleable__label-arrow:before {content: \"▸\";float: left;margin-right: 0.25em;color: #696969;}#sk-container-id-1 label.sk-toggleable__label-arrow:hover:before {color: black;}#sk-container-id-1 div.sk-estimator:hover label.sk-toggleable__label-arrow:before {color: black;}#sk-container-id-1 div.sk-toggleable__content {max-height: 0;max-width: 0;overflow: hidden;text-align: left;background-color: #f0f8ff;}#sk-container-id-1 div.sk-toggleable__content pre {margin: 0.2em;color: black;border-radius: 0.25em;background-color: #f0f8ff;}#sk-container-id-1 input.sk-toggleable__control:checked~div.sk-toggleable__content {max-height: 200px;max-width: 100%;overflow: auto;}#sk-container-id-1 input.sk-toggleable__control:checked~label.sk-toggleable__label-arrow:before {content: \"▾\";}#sk-container-id-1 div.sk-estimator input.sk-toggleable__control:checked~label.sk-toggleable__label {background-color: #d4ebff;}#sk-container-id-1 div.sk-label input.sk-toggleable__control:checked~label.sk-toggleable__label {background-color: #d4ebff;}#sk-container-id-1 input.sk-hidden--visually {border: 0;clip: rect(1px 1px 1px 1px);clip: rect(1px, 1px, 1px, 1px);height: 1px;margin: -1px;overflow: hidden;padding: 0;position: absolute;width: 1px;}#sk-container-id-1 div.sk-estimator {font-family: monospace;background-color: #f0f8ff;border: 1px dotted black;border-radius: 0.25em;box-sizing: border-box;margin-bottom: 0.5em;}#sk-container-id-1 div.sk-estimator:hover {background-color: #d4ebff;}#sk-container-id-1 div.sk-parallel-item::after {content: \"\";width: 100%;border-bottom: 1px solid gray;flex-grow: 1;}#sk-container-id-1 div.sk-label:hover label.sk-toggleable__label {background-color: #d4ebff;}#sk-container-id-1 div.sk-serial::before {content: \"\";position: absolute;border-left: 1px solid gray;box-sizing: border-box;top: 0;bottom: 0;left: 50%;z-index: 0;}#sk-container-id-1 div.sk-serial {display: flex;flex-direction: column;align-items: center;background-color: white;padding-right: 0.2em;padding-left: 0.2em;position: relative;}#sk-container-id-1 div.sk-item {position: relative;z-index: 1;}#sk-container-id-1 div.sk-parallel {display: flex;align-items: stretch;justify-content: center;background-color: white;position: relative;}#sk-container-id-1 div.sk-item::before, #sk-container-id-1 div.sk-parallel-item::before {content: \"\";position: absolute;border-left: 1px solid gray;box-sizing: border-box;top: 0;bottom: 0;left: 50%;z-index: -1;}#sk-container-id-1 div.sk-parallel-item {display: flex;flex-direction: column;z-index: 1;position: relative;background-color: white;}#sk-container-id-1 div.sk-parallel-item:first-child::after {align-self: flex-end;width: 50%;}#sk-container-id-1 div.sk-parallel-item:last-child::after {align-self: flex-start;width: 50%;}#sk-container-id-1 div.sk-parallel-item:only-child::after {width: 0;}#sk-container-id-1 div.sk-dashed-wrapped {border: 1px dashed gray;margin: 0 0.4em 0.5em 0.4em;box-sizing: border-box;padding-bottom: 0.4em;background-color: white;}#sk-container-id-1 div.sk-label label {font-family: monospace;font-weight: bold;display: inline-block;line-height: 1.2em;}#sk-container-id-1 div.sk-label-container {text-align: center;}#sk-container-id-1 div.sk-container {/* jupyter's `normalize.less` sets `[hidden] { display: none; }` but bootstrap.min.css set `[hidden] { display: none !important; }` so we also need the `!important` here to be able to override the default hidden behavior on the sphinx rendered scikit-learn.org. See: https://github.com/scikit-learn/scikit-learn/issues/21755 */display: inline-block !important;position: relative;}#sk-container-id-1 div.sk-text-repr-fallback {display: none;}</style><div id=\"sk-container-id-1\" class=\"sk-top-container\"><div class=\"sk-text-repr-fallback\"><pre>GaussianNB()</pre><b>In a Jupyter environment, please rerun this cell to show the HTML representation or trust the notebook. <br />On GitHub, the HTML representation is unable to render, please try loading this page with nbviewer.org.</b></div><div class=\"sk-container\" hidden><div class=\"sk-item\"><div class=\"sk-estimator sk-toggleable\"><input class=\"sk-toggleable__control sk-hidden--visually\" id=\"sk-estimator-id-1\" type=\"checkbox\" checked><label for=\"sk-estimator-id-1\" class=\"sk-toggleable__label sk-toggleable__label-arrow\">GaussianNB</label><div class=\"sk-toggleable__content\"><pre>GaussianNB()</pre></div></div></div></div></div>"
            ]
          },
          "metadata": {},
          "execution_count": 22
        }
      ]
    },
    {
      "cell_type": "code",
      "source": [
        "#making predictions\n",
        "y_pred=nb.predict(X_test)"
      ],
      "metadata": {
        "id": "mpJdbNBX9jwX"
      },
      "execution_count": 23,
      "outputs": []
    },
    {
      "cell_type": "code",
      "source": [
        "#function to predict the disease\n",
        "def model(a=-1,b=-1,c=-1,d=-1,e=-1,f=-1,g=-1,h=-1,i=-1,j=-1,k=-1,l=-1,m=-1,n=-1,s=-1,w=-1,u=-1):\n",
        "  predicted_label = nb.predict([[a,b,c,d,e,f,g,h,i,j,k,l,m,n,s,w,u]])[0]\n",
        "  print(predicted_label)\n",
        "  \n",
        "#symptoms\n",
        "model(2,7,4,0,51,57,32) "
      ],
      "metadata": {
        "id": "3W06c2jZEf1t",
        "colab": {
          "base_uri": "https://localhost:8080/"
        },
        "outputId": "e7e57d6e-07ef-489a-e1a1-eecda00f73aa"
      },
      "execution_count": 29,
      "outputs": [
        {
          "output_type": "stream",
          "name": "stdout",
          "text": [
            "Hepatitis D\n"
          ]
        },
        {
          "output_type": "stream",
          "name": "stderr",
          "text": [
            "/usr/local/lib/python3.9/dist-packages/sklearn/base.py:439: UserWarning: X does not have valid feature names, but GaussianNB was fitted with feature names\n",
            "  warnings.warn(\n"
          ]
        }
      ]
    },
    {
      "cell_type": "markdown",
      "source": [
        "## **KNN**"
      ],
      "metadata": {
        "id": "LjtzLvW3lSGD"
      }
    },
    {
      "cell_type": "code",
      "source": [
        "from sklearn.neighbors import KNeighborsClassifier\n",
        "neigh=KNeighborsClassifier(n_neighbors=32)\n",
        "neigh.fit(X_train,y_train)\n"
      ],
      "metadata": {
        "colab": {
          "base_uri": "https://localhost:8080/",
          "height": 74
        },
        "id": "OAzfZ0tKlVZK",
        "outputId": "ed7b4541-7cb9-4393-ea0e-dcc7470d2481"
      },
      "execution_count": 25,
      "outputs": [
        {
          "output_type": "execute_result",
          "data": {
            "text/plain": [
              "KNeighborsClassifier(n_neighbors=32)"
            ],
            "text/html": [
              "<style>#sk-container-id-2 {color: black;background-color: white;}#sk-container-id-2 pre{padding: 0;}#sk-container-id-2 div.sk-toggleable {background-color: white;}#sk-container-id-2 label.sk-toggleable__label {cursor: pointer;display: block;width: 100%;margin-bottom: 0;padding: 0.3em;box-sizing: border-box;text-align: center;}#sk-container-id-2 label.sk-toggleable__label-arrow:before {content: \"▸\";float: left;margin-right: 0.25em;color: #696969;}#sk-container-id-2 label.sk-toggleable__label-arrow:hover:before {color: black;}#sk-container-id-2 div.sk-estimator:hover label.sk-toggleable__label-arrow:before {color: black;}#sk-container-id-2 div.sk-toggleable__content {max-height: 0;max-width: 0;overflow: hidden;text-align: left;background-color: #f0f8ff;}#sk-container-id-2 div.sk-toggleable__content pre {margin: 0.2em;color: black;border-radius: 0.25em;background-color: #f0f8ff;}#sk-container-id-2 input.sk-toggleable__control:checked~div.sk-toggleable__content {max-height: 200px;max-width: 100%;overflow: auto;}#sk-container-id-2 input.sk-toggleable__control:checked~label.sk-toggleable__label-arrow:before {content: \"▾\";}#sk-container-id-2 div.sk-estimator input.sk-toggleable__control:checked~label.sk-toggleable__label {background-color: #d4ebff;}#sk-container-id-2 div.sk-label input.sk-toggleable__control:checked~label.sk-toggleable__label {background-color: #d4ebff;}#sk-container-id-2 input.sk-hidden--visually {border: 0;clip: rect(1px 1px 1px 1px);clip: rect(1px, 1px, 1px, 1px);height: 1px;margin: -1px;overflow: hidden;padding: 0;position: absolute;width: 1px;}#sk-container-id-2 div.sk-estimator {font-family: monospace;background-color: #f0f8ff;border: 1px dotted black;border-radius: 0.25em;box-sizing: border-box;margin-bottom: 0.5em;}#sk-container-id-2 div.sk-estimator:hover {background-color: #d4ebff;}#sk-container-id-2 div.sk-parallel-item::after {content: \"\";width: 100%;border-bottom: 1px solid gray;flex-grow: 1;}#sk-container-id-2 div.sk-label:hover label.sk-toggleable__label {background-color: #d4ebff;}#sk-container-id-2 div.sk-serial::before {content: \"\";position: absolute;border-left: 1px solid gray;box-sizing: border-box;top: 0;bottom: 0;left: 50%;z-index: 0;}#sk-container-id-2 div.sk-serial {display: flex;flex-direction: column;align-items: center;background-color: white;padding-right: 0.2em;padding-left: 0.2em;position: relative;}#sk-container-id-2 div.sk-item {position: relative;z-index: 1;}#sk-container-id-2 div.sk-parallel {display: flex;align-items: stretch;justify-content: center;background-color: white;position: relative;}#sk-container-id-2 div.sk-item::before, #sk-container-id-2 div.sk-parallel-item::before {content: \"\";position: absolute;border-left: 1px solid gray;box-sizing: border-box;top: 0;bottom: 0;left: 50%;z-index: -1;}#sk-container-id-2 div.sk-parallel-item {display: flex;flex-direction: column;z-index: 1;position: relative;background-color: white;}#sk-container-id-2 div.sk-parallel-item:first-child::after {align-self: flex-end;width: 50%;}#sk-container-id-2 div.sk-parallel-item:last-child::after {align-self: flex-start;width: 50%;}#sk-container-id-2 div.sk-parallel-item:only-child::after {width: 0;}#sk-container-id-2 div.sk-dashed-wrapped {border: 1px dashed gray;margin: 0 0.4em 0.5em 0.4em;box-sizing: border-box;padding-bottom: 0.4em;background-color: white;}#sk-container-id-2 div.sk-label label {font-family: monospace;font-weight: bold;display: inline-block;line-height: 1.2em;}#sk-container-id-2 div.sk-label-container {text-align: center;}#sk-container-id-2 div.sk-container {/* jupyter's `normalize.less` sets `[hidden] { display: none; }` but bootstrap.min.css set `[hidden] { display: none !important; }` so we also need the `!important` here to be able to override the default hidden behavior on the sphinx rendered scikit-learn.org. See: https://github.com/scikit-learn/scikit-learn/issues/21755 */display: inline-block !important;position: relative;}#sk-container-id-2 div.sk-text-repr-fallback {display: none;}</style><div id=\"sk-container-id-2\" class=\"sk-top-container\"><div class=\"sk-text-repr-fallback\"><pre>KNeighborsClassifier(n_neighbors=32)</pre><b>In a Jupyter environment, please rerun this cell to show the HTML representation or trust the notebook. <br />On GitHub, the HTML representation is unable to render, please try loading this page with nbviewer.org.</b></div><div class=\"sk-container\" hidden><div class=\"sk-item\"><div class=\"sk-estimator sk-toggleable\"><input class=\"sk-toggleable__control sk-hidden--visually\" id=\"sk-estimator-id-2\" type=\"checkbox\" checked><label for=\"sk-estimator-id-2\" class=\"sk-toggleable__label sk-toggleable__label-arrow\">KNeighborsClassifier</label><div class=\"sk-toggleable__content\"><pre>KNeighborsClassifier(n_neighbors=32)</pre></div></div></div></div></div>"
            ]
          },
          "metadata": {},
          "execution_count": 25
        }
      ]
    },
    {
      "cell_type": "code",
      "source": [
        "ypredknn=neigh.predict(X_test)"
      ],
      "metadata": {
        "id": "UKE8CferjmJu"
      },
      "execution_count": 30,
      "outputs": []
    },
    {
      "cell_type": "code",
      "source": [
        "def knnmodel(a=-1,b=-1,c=-1,d=-1,e=-1,f=-1,g=-1,h=-1,i=-1,j=-1,k=-1,l=-1,m=-1,n=-1,s=-1,w=-1,u=-1):\n",
        "  v=neigh.predict([[a,b,c,d,e,f,g,h,i,j,k,l,m,n,s,w,u]])\n",
        "  print(v)\n",
        "\n",
        "knnmodel(2,7,4,0,51)\n",
        "\n"
      ],
      "metadata": {
        "colab": {
          "base_uri": "https://localhost:8080/"
        },
        "id": "aTC0V3QomKG6",
        "outputId": "29a9c058-fa15-4a41-e779-92967b85c9e0"
      },
      "execution_count": 32,
      "outputs": [
        {
          "output_type": "stream",
          "name": "stdout",
          "text": [
            "['Bronchial Asthma']\n"
          ]
        },
        {
          "output_type": "stream",
          "name": "stderr",
          "text": [
            "/usr/local/lib/python3.9/dist-packages/sklearn/base.py:439: UserWarning: X does not have valid feature names, but KNeighborsClassifier was fitted with feature names\n",
            "  warnings.warn(\n"
          ]
        }
      ]
    },
    {
      "cell_type": "markdown",
      "source": [
        "# PERFORMANCE METRICS"
      ],
      "metadata": {
        "id": "b8mEX5U0EjkG"
      }
    },
    {
      "cell_type": "markdown",
      "source": [
        "##**F1, Recall, Precision, Accuracy, Heatmap & Confusion Matrix  of GaussianNB**"
      ],
      "metadata": {
        "id": "jHaAP8JZcjFJ"
      }
    },
    {
      "cell_type": "code",
      "source": [
        "# Evaluate the performance of the model\n",
        "accuracy = accuracy_score(y_test, y_pred)\n",
        "precision = precision_score(y_test, y_pred, average='macro')\n",
        "recall = recall_score(y_test, y_pred, average='macro')\n",
        "f1 = f1_score(y_test, y_pred, average='macro')"
      ],
      "metadata": {
        "id": "1-QWDZuazFQB",
        "colab": {
          "base_uri": "https://localhost:8080/"
        },
        "outputId": "5c38319d-ac48-49fd-d876-03a73527d124"
      },
      "execution_count": 50,
      "outputs": [
        {
          "output_type": "stream",
          "name": "stderr",
          "text": [
            "/usr/local/lib/python3.9/dist-packages/sklearn/metrics/_classification.py:1344: UndefinedMetricWarning: Precision is ill-defined and being set to 0.0 in labels with no predicted samples. Use `zero_division` parameter to control this behavior.\n",
            "  _warn_prf(average, modifier, msg_start, len(result))\n"
          ]
        }
      ]
    },
    {
      "cell_type": "code",
      "source": [
        "print(\"Accuracy: {:.2f}%\".format(accuracy * 100))\n",
        "print(\"Precision: {:.2f}%\".format(precision * 100))\n",
        "print(\"Recall: {:.2f}%\".format(recall * 100))\n",
        "print(\"F1 Score: {:.2f}%\".format(f1 * 100))"
      ],
      "metadata": {
        "id": "vpzbeRUwnVTn",
        "colab": {
          "base_uri": "https://localhost:8080/"
        },
        "outputId": "2cfc1054-f521-4499-b801-d328d7efec13"
      },
      "execution_count": 51,
      "outputs": [
        {
          "output_type": "stream",
          "name": "stdout",
          "text": [
            "Accuracy: 84.82%\n",
            "Precision: 86.89%\n",
            "Recall: 84.08%\n",
            "F1 Score: 82.07%\n"
          ]
        }
      ]
    },
    {
      "cell_type": "markdown",
      "source": [
        "**HEATMAP**"
      ],
      "metadata": {
        "id": "i3EwyRgai35d"
      }
    },
    {
      "cell_type": "code",
      "source": [
        "import seaborn as sns\n",
        "import matplotlib.pyplot as plt\n",
        "from sklearn.metrics import confusion_matrix\n",
        "from sklearn import metrics"
      ],
      "metadata": {
        "id": "X2Tk0ZtIe7hT"
      },
      "execution_count": 52,
      "outputs": []
    },
    {
      "cell_type": "code",
      "source": [
        "cm = confusion_matrix(y_test[0:1034], y_pred)"
      ],
      "metadata": {
        "id": "PDsjpGVSe2G9"
      },
      "execution_count": 53,
      "outputs": []
    },
    {
      "cell_type": "code",
      "source": [
        "sns.heatmap(data=cm)"
      ],
      "metadata": {
        "id": "bNmy8d5Ye5qT",
        "colab": {
          "base_uri": "https://localhost:8080/",
          "height": 447
        },
        "outputId": "dff618cf-c3b3-4568-8bd9-c65f4226d749"
      },
      "execution_count": 54,
      "outputs": [
        {
          "output_type": "execute_result",
          "data": {
            "text/plain": [
              "<Axes: >"
            ]
          },
          "metadata": {},
          "execution_count": 54
        },
        {
          "output_type": "display_data",
          "data": {
            "text/plain": [
              "<Figure size 640x480 with 2 Axes>"
            ],
            "image/png": "[encoded data removed]"
          },
          "metadata": {}
        }
      ]
    },
    {
      "cell_type": "markdown",
      "source": [
        "**CONFUSION MATRIX**"
      ],
      "metadata": {
        "id": "3KO_DeGaK_uA"
      }
    },
    {
      "cell_type": "code",
      "source": [
        "from sklearn.metrics import confusion_matrix\n",
        "k=y[0:1034]\n",
        "print(metrics.confusion_matrix(k,y_pred))\n",
        "print(metrics.classification_report(k,y_pred))"
      ],
      "metadata": {
        "id": "IJiFN7ceda19",
        "colab": {
          "base_uri": "https://localhost:8080/"
        },
        "outputId": "691508cf-ef95-48cd-e2c9-185e5c330115"
      },
      "execution_count": 55,
      "outputs": [
        {
          "output_type": "stream",
          "name": "stdout",
          "text": [
            "[[0 1 0 ... 1 1 1]\n",
            " [4 2 0 ... 0 1 0]\n",
            " [0 1 0 ... 0 0 0]\n",
            " ...\n",
            " [1 0 0 ... 1 1 1]\n",
            " [3 0 0 ... 0 0 0]\n",
            " [0 1 0 ... 1 0 0]]\n",
            "                                         precision    recall  f1-score   support\n",
            "\n",
            "(vertigo) Paroymsal  Positional Vertigo       0.00      0.00      0.00        20\n",
            "                                   AIDS       0.06      0.07      0.07        30\n",
            "                                   Acne       0.00      0.00      0.00        20\n",
            "                    Alcoholic hepatitis       0.04      0.05      0.04        20\n",
            "                                Allergy       0.07      0.07      0.07        30\n",
            "                              Arthritis       0.00      0.00      0.00        20\n",
            "                       Bronchial Asthma       0.03      0.03      0.03        30\n",
            "                   Cervical spondylosis       0.04      0.03      0.04        30\n",
            "                            Chicken pox       0.00      0.00      0.00        30\n",
            "                    Chronic cholestasis       0.08      0.03      0.05        30\n",
            "                            Common Cold       0.12      0.15      0.14        20\n",
            "                                 Dengue       0.00      0.00      0.00        30\n",
            "                              Diabetes        0.00      0.00      0.00        30\n",
            "           Dimorphic hemmorhoids(piles)       0.00      0.00      0.00        20\n",
            "                          Drug Reaction       0.00      0.00      0.00        30\n",
            "                       Fungal infection       0.02      0.03      0.02        30\n",
            "                                   GERD       0.00      0.00      0.00        30\n",
            "                        Gastroenteritis       0.04      0.03      0.04        30\n",
            "                           Heart attack       0.04      0.05      0.05        20\n",
            "                            Hepatitis B       0.03      0.03      0.03        30\n",
            "                            Hepatitis C       0.00      0.00      0.00        24\n",
            "                            Hepatitis D       0.00      0.00      0.00        20\n",
            "                            Hepatitis E       0.02      0.05      0.03        20\n",
            "                          Hypertension        0.09      0.07      0.08        30\n",
            "                        Hyperthyroidism       0.00      0.00      0.00        20\n",
            "                           Hypoglycemia       0.04      0.05      0.04        20\n",
            "                         Hypothyroidism       0.00      0.00      0.00        20\n",
            "                               Impetigo       0.02      0.05      0.03        20\n",
            "                               Jaundice       0.09      0.07      0.08        30\n",
            "                                Malaria       0.00      0.00      0.00        30\n",
            "                               Migraine       0.00      0.00      0.00        30\n",
            "                        Osteoarthristis       0.00      0.00      0.00        20\n",
            "           Paralysis (brain hemorrhage)       0.07      0.07      0.07        30\n",
            "                    Peptic ulcer diseae       0.06      0.03      0.04        30\n",
            "                              Pneumonia       0.03      0.05      0.04        20\n",
            "                              Psoriasis       0.00      0.00      0.00        20\n",
            "                           Tuberculosis       0.00      0.00      0.00        20\n",
            "                                Typhoid       0.00      0.00      0.00        30\n",
            "                Urinary tract infection       0.04      0.05      0.04        20\n",
            "                         Varicose veins       0.00      0.00      0.00        20\n",
            "                            hepatitis A       0.00      0.00      0.00        30\n",
            "\n",
            "                               accuracy                           0.03      1034\n",
            "                              macro avg       0.03      0.03      0.02      1034\n",
            "                           weighted avg       0.03      0.03      0.03      1034\n",
            "\n"
          ]
        },
        {
          "output_type": "stream",
          "name": "stderr",
          "text": [
            "/usr/local/lib/python3.9/dist-packages/sklearn/metrics/_classification.py:1344: UndefinedMetricWarning: Precision and F-score are ill-defined and being set to 0.0 in labels with no predicted samples. Use `zero_division` parameter to control this behavior.\n",
            "  _warn_prf(average, modifier, msg_start, len(result))\n",
            "/usr/local/lib/python3.9/dist-packages/sklearn/metrics/_classification.py:1344: UndefinedMetricWarning: Precision and F-score are ill-defined and being set to 0.0 in labels with no predicted samples. Use `zero_division` parameter to control this behavior.\n",
            "  _warn_prf(average, modifier, msg_start, len(result))\n",
            "/usr/local/lib/python3.9/dist-packages/sklearn/metrics/_classification.py:1344: UndefinedMetricWarning: Precision and F-score are ill-defined and being set to 0.0 in labels with no predicted samples. Use `zero_division` parameter to control this behavior.\n",
            "  _warn_prf(average, modifier, msg_start, len(result))\n"
          ]
        }
      ]
    },
    {
      "cell_type": "markdown",
      "source": [
        "## **F1,Recall,Precision,Accuracy,Confusion matrix,Heatmap of KNN**"
      ],
      "metadata": {
        "id": "dfvmfk5pjOR_"
      }
    },
    {
      "cell_type": "code",
      "source": [
        "accuracyknn = accuracy_score(y_test, ypredknn)\n",
        "precisionknn = precision_score(y_test, ypredknn, average='macro')\n",
        "recallknn = recall_score(y_test, ypredknn, average='macro')\n",
        "f1knn = f1_score(y_test, ypredknn, average='macro')"
      ],
      "metadata": {
        "id": "CyC-f_4QjffI"
      },
      "execution_count": 42,
      "outputs": []
    },
    {
      "cell_type": "code",
      "source": [
        "print(\"Accuracy: {:.2f}%\".format(accuracyknn * 100))\n",
        "print(\"Precision: {:.2f}%\".format(precisionknn * 100))\n",
        "print(\"Recall: {:.2f}%\".format(recallknn * 100))\n",
        "print(\"F1 Score: {:.2f}%\".format(f1knn * 100))"
      ],
      "metadata": {
        "colab": {
          "base_uri": "https://localhost:8080/"
        },
        "id": "vzXGm2EkkJ8I",
        "outputId": "f1910b3c-bcdf-48c5-ce3e-14ae8b0c0d0b"
      },
      "execution_count": 43,
      "outputs": [
        {
          "output_type": "stream",
          "name": "stdout",
          "text": [
            "Accuracy: 93.71%\n",
            "Precision: 94.17%\n",
            "Recall: 93.84%\n",
            "F1 Score: 93.69%\n"
          ]
        }
      ]
    },
    {
      "cell_type": "code",
      "source": [
        "kn=y[0:1034]\n",
        "print(metrics.confusion_matrix(k,ypredknn))\n",
        "print(metrics.classification_report(k,ypredknn))"
      ],
      "metadata": {
        "id": "nNYc6PgVkYLm",
        "colab": {
          "base_uri": "https://localhost:8080/"
        },
        "outputId": "18ff91b9-3457-4d46-fd05-01c0621cced6"
      },
      "execution_count": 44,
      "outputs": [
        {
          "output_type": "stream",
          "name": "stdout",
          "text": [
            "[[0 1 1 ... 1 1 1]\n",
            " [2 2 1 ... 0 1 0]\n",
            " [0 2 2 ... 0 0 0]\n",
            " ...\n",
            " [0 0 1 ... 1 1 1]\n",
            " [0 0 0 ... 0 0 0]\n",
            " [0 1 0 ... 1 1 0]]\n",
            "                                         precision    recall  f1-score   support\n",
            "\n",
            "(vertigo) Paroymsal  Positional Vertigo       0.00      0.00      0.00        20\n",
            "                                   AIDS       0.06      0.07      0.06        30\n",
            "                                   Acne       0.07      0.10      0.08        20\n",
            "                    Alcoholic hepatitis       0.04      0.05      0.05        20\n",
            "                                Allergy       0.04      0.03      0.04        30\n",
            "                              Arthritis       0.00      0.00      0.00        20\n",
            "                       Bronchial Asthma       0.04      0.03      0.03        30\n",
            "                   Cervical spondylosis       0.04      0.03      0.04        30\n",
            "                            Chicken pox       0.08      0.07      0.07        30\n",
            "                    Chronic cholestasis       0.06      0.03      0.04        30\n",
            "                            Common Cold       0.12      0.15      0.14        20\n",
            "                                 Dengue       0.00      0.00      0.00        30\n",
            "                              Diabetes        0.00      0.00      0.00        30\n",
            "           Dimorphic hemmorhoids(piles)       0.00      0.00      0.00        20\n",
            "                          Drug Reaction       0.00      0.00      0.00        30\n",
            "                       Fungal infection       0.00      0.00      0.00        30\n",
            "                                   GERD       0.00      0.00      0.00        30\n",
            "                        Gastroenteritis       0.04      0.03      0.04        30\n",
            "                           Heart attack       0.04      0.05      0.04        20\n",
            "                            Hepatitis B       0.03      0.03      0.03        30\n",
            "                            Hepatitis C       0.00      0.00      0.00        24\n",
            "                            Hepatitis D       0.00      0.00      0.00        20\n",
            "                            Hepatitis E       0.00      0.00      0.00        20\n",
            "                          Hypertension        0.04      0.03      0.04        30\n",
            "                        Hyperthyroidism       0.00      0.00      0.00        20\n",
            "                           Hypoglycemia       0.04      0.05      0.04        20\n",
            "                         Hypothyroidism       0.00      0.00      0.00        20\n",
            "                               Impetigo       0.00      0.00      0.00        20\n",
            "                               Jaundice       0.00      0.00      0.00        30\n",
            "                                Malaria       0.00      0.00      0.00        30\n",
            "                               Migraine       0.00      0.00      0.00        30\n",
            "                        Osteoarthristis       0.00      0.00      0.00        20\n",
            "           Paralysis (brain hemorrhage)       0.08      0.07      0.07        30\n",
            "                    Peptic ulcer diseae       0.05      0.03      0.04        30\n",
            "                              Pneumonia       0.03      0.05      0.04        20\n",
            "                              Psoriasis       0.03      0.05      0.04        20\n",
            "                           Tuberculosis       0.00      0.00      0.00        20\n",
            "                                Typhoid       0.05      0.03      0.04        30\n",
            "                Urinary tract infection       0.04      0.05      0.04        20\n",
            "                         Varicose veins       0.00      0.00      0.00        20\n",
            "                            hepatitis A       0.00      0.00      0.00        30\n",
            "\n",
            "                               accuracy                           0.03      1034\n",
            "                              macro avg       0.03      0.03      0.02      1034\n",
            "                           weighted avg       0.03      0.03      0.02      1034\n",
            "\n"
          ]
        }
      ]
    },
    {
      "cell_type": "code",
      "source": [
        "kncm = confusion_matrix(y_test[0:1034], ypredknn)\n",
        "sns.heatmap(data=kncm)"
      ],
      "metadata": {
        "id": "0ZHjRUsloUiE",
        "colab": {
          "base_uri": "https://localhost:8080/",
          "height": 447
        },
        "outputId": "3317efca-f535-4194-bb1f-79286163e470"
      },
      "execution_count": 45,
      "outputs": [
        {
          "output_type": "execute_result",
          "data": {
            "text/plain": [
              "<Axes: >"
            ]
          },
          "metadata": {},
          "execution_count": 45
        },
        {
          "output_type": "display_data",
          "data": {
            "text/plain": [
              "<Figure size 640x480 with 2 Axes>"
            ],
            "image/png": "[encoded data removed]"
          },
          "metadata": {}
        }
      ]
    },
    {
      "cell_type": "markdown",
      "source": [
        "##**Comparative analysis between KNN and Gaussian(F1,Recall,Precision,Accuracy)**"
      ],
      "metadata": {
        "id": "tKnCE6DivDIy"
      }
    },
    {
      "cell_type": "code",
      "source": [
        "import numpy as np\n",
        "knnlis=[90.23,91.03,90.48,90.13]\n",
        "gua=[88.20,91.00,87.93,88.35]\n",
        "x = np.arange(4)\n",
        "width = 0.40\n",
        "plt.bar(x-0.2, knnlis, width,color=\"Red\")\n",
        "plt.bar(x+0.2, gua, width,color=\"Blue\")\n",
        "plt.xticks(x,[\"Accuracy\",\"Precision\",\"Recall\",\"F1-Score\"])"
      ],
      "metadata": {
        "id": "08_S8Nn-nUkv",
        "colab": {
          "base_uri": "https://localhost:8080/",
          "height": 569
        },
        "outputId": "f47906eb-fbe6-4537-e950-7be753bc16e4"
      },
      "execution_count": 47,
      "outputs": [
        {
          "output_type": "execute_result",
          "data": {
            "text/plain": [
              "([<matplotlib.axis.XTick at 0x7f71ccd30df0>,\n",
              "  <matplotlib.axis.XTick at 0x7f71ccd30280>,\n",
              "  <matplotlib.axis.XTick at 0x7f71ccd30ca0>,\n",
              "  <matplotlib.axis.XTick at 0x7f71cccc8880>],\n",
              " [Text(0, 0, 'Accuracy'),\n",
              "  Text(1, 0, 'Precision'),\n",
              "  Text(2, 0, 'Recall'),\n",
              "  Text(3, 0, 'F1-Score')])"
            ]
          },
          "metadata": {},
          "execution_count": 47
        },
        {
          "output_type": "display_data",
          "data": {
            "text/plain": [
              "<Figure size 640x480 with 1 Axes>"
            ],
            "image/png": "[encoded data removed]"
          },
          "metadata": {}
        }
      ]
    },
    {
      "cell_type": "markdown",
      "source": [
        "## **Decision Tree**"
      ],
      "metadata": {
        "id": "ANOsuwzrmWQQ"
      }
    },
    {
      "cell_type": "code",
      "source": [
        "from sklearn.tree import DecisionTreeClassifier\n",
        "clf = DecisionTreeClassifier()\n",
        "clf.fit(X_train, y_train)\n",
        "y_predd = clf.predict(X_test)\n",
        "accuracyd = accuracy_score(y_test, y_predd)\n",
        "precisiond = precision_score(y_test, y_predd, average='weighted')\n",
        "recalld = recall_score(y_test, y_predd, average='macro')\n",
        "f1 = f1_score(y_test, y_predd, average='macro')\n",
        "\n",
        "print(\"Accuracy: {:.2f}%\".format(accuracyd * 100))\n",
        "print(\"Precision: {:.2f}%\".format(precisiond * 100))\n",
        "print(\"Recall: {:.2f}%\".format(recalld * 100))\n",
        "print(\"F1 Score: {:.2f}%\".format(f1 * 100))"
      ],
      "metadata": {
        "id": "EPlZ9Tv4JCE6"
      },
      "execution_count": null,
      "outputs": []
    }
  ]
}